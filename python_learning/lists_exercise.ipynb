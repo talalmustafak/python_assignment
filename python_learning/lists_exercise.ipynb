{
 "cells": [
  {
   "cell_type": "code",
   "execution_count": 11,
   "metadata": {},
   "outputs": [
    {
     "name": "stdout",
     "output_type": "stream",
     "text": [
      "ali\n",
      "ahmad\n",
      "usama\n",
      "rizwan\n"
     ]
    }
   ],
   "source": [
    "names=[\"ali\", \"ahmad\", \"usama\", \"rizwan\"]\n",
    "print(names[0])\n",
    "print(names[1])\n",
    "print(names[2])\n",
    "print(names[3])"
   ]
  },
  {
   "cell_type": "code",
   "execution_count": 12,
   "metadata": {},
   "outputs": [
    {
     "name": "stdout",
     "output_type": "stream",
     "text": [
      " hello ali! what's up?\n",
      " hello ahmad! what's up?\n",
      " hello usama! what's up?\n",
      " hello rizwan! what's up?\n"
     ]
    }
   ],
   "source": [
    "print(f\" hello {names[0]}! what's up?\")\n",
    "print(f\" hello {names[1]}! what's up?\")\n",
    "print(f\" hello {names[2]}! what's up?\")\n",
    "print(f\" hello {names[3]}! what's up?\")"
   ]
  },
  {
   "cell_type": "code",
   "execution_count": 13,
   "metadata": {},
   "outputs": [
    {
     "name": "stdout",
     "output_type": "stream",
     "text": [
      "Toyota Corolla is mostly termed premium all-purpose vehicle.\n",
      "Honda Civic is more of a sporty GEN-Z vehicle.\n",
      "Suzuki Swift is considered handy due to its compact size.\n",
      "MG ZS is a feature-packed powerhouse.\n"
     ]
    }
   ],
   "source": [
    "cars=[\"Toyota Corolla\", \"Honda Civic\", \"Suzuki Swift\", \"MG ZS\"]\n",
    "print(f\"{cars[0]} is mostly termed premium all-purpose vehicle.\")\n",
    "print(f\"{cars[1]} is more of a sporty GEN-Z vehicle.\")\n",
    "print(f\"{cars[2]} is considered handy due to its compact size.\")\n",
    "print(f\"{cars[3]} is a feature-packed powerhouse.\")"
   ]
  },
  {
   "cell_type": "code",
   "execution_count": 14,
   "metadata": {},
   "outputs": [
    {
     "name": "stdout",
     "output_type": "stream",
     "text": [
      "Dear Sam Altman, I would like to invite you to dinner.\n",
      "Dear Tim Cook, I would like to invite you to dinner.\n",
      "Dear Sundar Pichai, I would like to invite you to dinner.\n"
     ]
    }
   ],
   "source": [
    "guests = [\"Sam Altman\", \"Tim Cook\", \"Sundar Pichai\"]\n",
    "\n",
    "for guest in guests:\n",
    "    print(f\"Dear {guest}, I would like to invite you to dinner.\")\n"
   ]
  },
  {
   "cell_type": "code",
   "execution_count": 15,
   "metadata": {},
   "outputs": [
    {
     "name": "stdout",
     "output_type": "stream",
     "text": [
      "Unfortunately, Sundar Pichai can't make it to the dinner.\n",
      "Dear Sam Altman, I would like to invite you to dinner.\n",
      "Dear Tim Cook, I would like to invite you to dinner.\n",
      "Dear Mark Zuckerberg, I would like to invite you to dinner.\n"
     ]
    }
   ],
   "source": [
    "print(f\"Unfortunately, {guests[2]} can't make it to the dinner.\")\n",
    "\n",
    "guests[2] = \"Mark Zuckerberg\"\n",
    "\n",
    "for guest in guests:\n",
    "    print(f\"Dear {guest}, I would like to invite you to dinner.\")\n"
   ]
  },
  {
   "cell_type": "code",
   "execution_count": 16,
   "metadata": {},
   "outputs": [
    {
     "name": "stdout",
     "output_type": "stream",
     "text": [
      "Good news! We found a bigger table, so more guests can be invited!\n",
      "Dear Satya Nadela, I would like to invite you to dinner.\n",
      "Dear Sam Altman, I would like to invite you to dinner.\n",
      "Dear Bill Gates, I would like to invite you to dinner.\n",
      "Dear Tim Cook, I would like to invite you to dinner.\n",
      "Dear Mark Zuckerberg, I would like to invite you to dinner.\n",
      "Dear Elon Musk, I would like to invite you to dinner.\n"
     ]
    }
   ],
   "source": [
    "print(\"Good news! We found a bigger table, so more guests can be invited!\")\n",
    "\n",
    "guests.insert(0, \"Satya Nadela\")\n",
    "guests.insert(2, \"Bill Gates\")\n",
    "guests.append(\"Elon Musk\")\n",
    "\n",
    "for guest in guests:\n",
    "    print(f\"Dear {guest}, I would like to invite you to dinner.\")"
   ]
  },
  {
   "cell_type": "code",
   "execution_count": 17,
   "metadata": {},
   "outputs": [
    {
     "name": "stdout",
     "output_type": "stream",
     "text": [
      "Unfortunately, I can only invite two people to dinner.\n",
      "Sorry Elon Musk, I can't invite you to dinner.\n",
      "Sorry Mark Zuckerberg, I can't invite you to dinner.\n",
      "Sorry Tim Cook, I can't invite you to dinner.\n",
      "Sorry Bill Gates, I can't invite you to dinner.\n",
      "Dear Satya Nadela, you are still invited to dinner.\n",
      "Dear Sam Altman, you are still invited to dinner.\n",
      "[]\n"
     ]
    }
   ],
   "source": [
    "print(\"Unfortunately, I can only invite two people to dinner.\")\n",
    "\n",
    "while len(guests) > 2:\n",
    "    removed_guest = guests.pop()\n",
    "    print(f\"Sorry {removed_guest}, I can't invite you to dinner.\")\n",
    "\n",
    "for guest in guests:\n",
    "    print(f\"Dear {guest}, you are still invited to dinner.\")\n",
    "\n",
    "del guests[0]\n",
    "del guests[0]\n",
    "\n",
    "print(guests)"
   ]
  },
  {
   "cell_type": "code",
   "execution_count": 18,
   "metadata": {},
   "outputs": [
    {
     "name": "stdout",
     "output_type": "stream",
     "text": [
      "Original list: ['Japan', 'Switzerland', 'New Zealand', 'Norway', 'Canada']\n",
      "Alphabetical order: ['Canada', 'Japan', 'New Zealand', 'Norway', 'Switzerland']\n",
      "Original list after sorted(): ['Japan', 'Switzerland', 'New Zealand', 'Norway', 'Canada']\n",
      "Reverse alphabetical order: ['Switzerland', 'Norway', 'New Zealand', 'Japan', 'Canada']\n",
      "Original list after reverse sorted(): ['Japan', 'Switzerland', 'New Zealand', 'Norway', 'Canada']\n",
      "Reversed list: ['Canada', 'Norway', 'New Zealand', 'Switzerland', 'Japan']\n",
      "Back to original list: ['Japan', 'Switzerland', 'New Zealand', 'Norway', 'Canada']\n",
      "Alphabetically sorted list: ['Canada', 'Japan', 'New Zealand', 'Norway', 'Switzerland']\n",
      "Reverse alphabetically sorted list: ['Switzerland', 'Norway', 'New Zealand', 'Japan', 'Canada']\n"
     ]
    }
   ],
   "source": [
    "places = [\"Japan\", \"Switzerland\", \"New Zealand\", \"Norway\", \"Canada\"]\n",
    "\n",
    "print(\"Original list:\", places)\n",
    "\n",
    "print(\"Alphabetical order:\", sorted(places))\n",
    "print(\"Original list after sorted():\", places)\n",
    "print(\"Reverse alphabetical order:\", sorted(places, reverse=True))\n",
    "print(\"Original list after reverse sorted():\", places)\n",
    "places.reverse()\n",
    "print(\"Reversed list:\", places)\n",
    "places.reverse()\n",
    "print(\"Back to original list:\", places)\n",
    "places.sort()\n",
    "print(\"Alphabetically sorted list:\", places)\n",
    "places.sort(reverse=True)\n",
    "print(\"Reverse alphabetically sorted list:\", places)"
   ]
  },
  {
   "cell_type": "code",
   "execution_count": 19,
   "metadata": {},
   "outputs": [
    {
     "name": "stdout",
     "output_type": "stream",
     "text": [
      "Original list: ['Everest', 'K2', 'Kilimanjaro', 'Denali', 'Elbrus']\n",
      "Length of the list: 5\n",
      "Sorted list: ['Denali', 'Elbrus', 'Everest', 'K2', 'Kilimanjaro']\n",
      "Reversed list: ['Elbrus', 'Denali', 'Kilimanjaro', 'K2', 'Everest']\n",
      "Alphabetically sorted list: ['Denali', 'Elbrus', 'Everest', 'K2', 'Kilimanjaro']\n",
      "Popped mountain: Kilimanjaro, Remaining list: ['Denali', 'Elbrus', 'Everest', 'K2']\n",
      "After appending a new mountain: ['Denali', 'Elbrus', 'Everest', 'K2', 'Matterhorn']\n",
      "After inserting a mountain at the beginning: ['Mount Fuji', 'Denali', 'Elbrus', 'Everest', 'K2', 'Matterhorn']\n",
      "After deleting the first mountain: ['Denali', 'Elbrus', 'Everest', 'K2', 'Matterhorn']\n",
      "After removing K2: ['Denali', 'Elbrus', 'Everest', 'Matterhorn']\n"
     ]
    }
   ],
   "source": [
    "mountains = [\"Everest\", \"K2\", \"Kilimanjaro\", \"Denali\", \"Elbrus\"]\n",
    "print(\"Original list:\", mountains)\n",
    "print(\"Length of the list:\", len(mountains))\n",
    "print(\"Sorted list:\", sorted(mountains))\n",
    "mountains.reverse()\n",
    "print(\"Reversed list:\", mountains)\n",
    "mountains.sort()\n",
    "print(\"Alphabetically sorted list:\", mountains)\n",
    "popped_mountain = mountains.pop()\n",
    "print(f\"Popped mountain: {popped_mountain}, Remaining list: {mountains}\")\n",
    "mountains.append(\"Matterhorn\")\n",
    "print(\"After appending a new mountain:\", mountains)\n",
    "mountains.insert(0, \"Mount Fuji\")\n",
    "print(\"After inserting a mountain at the beginning:\", mountains)\n",
    "del mountains[0]\n",
    "print(\"After deleting the first mountain:\", mountains)\n",
    "mountains.remove(\"K2\")\n",
    "print(\"After removing K2:\", mountains)"
   ]
  },
  {
   "cell_type": "code",
   "execution_count": 20,
   "metadata": {},
   "outputs": [
    {
     "ename": "IndexError",
     "evalue": "list index out of range",
     "output_type": "error",
     "traceback": [
      "\u001b[1;31m---------------------------------------------------------------------------\u001b[0m",
      "\u001b[1;31mIndexError\u001b[0m                                Traceback (most recent call last)",
      "Cell \u001b[1;32mIn[20], line 1\u001b[0m\n\u001b[1;32m----> 1\u001b[0m \u001b[38;5;28mprint\u001b[39m(\u001b[43mmountains\u001b[49m\u001b[43m[\u001b[49m\u001b[38;5;241;43m10\u001b[39;49m\u001b[43m]\u001b[49m)  \n\u001b[0;32m      2\u001b[0m \u001b[38;5;28mprint\u001b[39m(mountains[\u001b[38;5;241m-\u001b[39m\u001b[38;5;241m1\u001b[39m])\n",
      "\u001b[1;31mIndexError\u001b[0m: list index out of range"
     ]
    }
   ],
   "source": [
    "\n",
    "print(mountains[10])  \n",
    "print(mountains[-1])"
   ]
  }
 ],
 "metadata": {
  "kernelspec": {
   "display_name": "Python 3",
   "language": "python",
   "name": "python3"
  },
  "language_info": {
   "codemirror_mode": {
    "name": "ipython",
    "version": 3
   },
   "file_extension": ".py",
   "mimetype": "text/x-python",
   "name": "python",
   "nbconvert_exporter": "python",
   "pygments_lexer": "ipython3",
   "version": "3.12.4"
  }
 },
 "nbformat": 4,
 "nbformat_minor": 2
}
