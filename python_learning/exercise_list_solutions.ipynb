{
 "cells": [
  {
   "cell_type": "code",
   "execution_count": 67,
   "metadata": {},
   "outputs": [
    {
     "name": "stdout",
     "output_type": "stream",
     "text": [
      "Saad\n",
      "Fahad\n",
      "Abdullah\n"
     ]
    }
   ],
   "source": [
    "names = [\"Saad\",\"Fahad\",\"Abdullah\"]\n",
    "for i in range(0,len(names)):\n",
    "    print(names[i])"
   ]
  },
  {
   "cell_type": "code",
   "execution_count": 22,
   "metadata": {},
   "outputs": [
    {
     "name": "stdout",
     "output_type": "stream",
     "text": [
      "Hello Saad, Have a great day !\n",
      "Hello Fahad, Have a great day !\n",
      "Hello Abdullah, Have a great day !\n"
     ]
    }
   ],
   "source": [
    "for i in range(0,len(names)):\n",
    "    print(f\"Hello {names[i]}, Have a great day !\")"
   ]
  },
  {
   "cell_type": "code",
   "execution_count": 23,
   "metadata": {},
   "outputs": [
    {
     "name": "stdout",
     "output_type": "stream",
     "text": [
      "I would like to own a Mercedes car.\n"
     ]
    }
   ],
   "source": [
    "cars = [\"Audi\", \"Mercedes\",\"BMW\",\"Honda\",\"Tesla\"]\n",
    "print(f\"I would like to own a {cars[1]} car.\")"
   ]
  },
  {
   "cell_type": "code",
   "execution_count": 24,
   "metadata": {},
   "outputs": [
    {
     "name": "stdout",
     "output_type": "stream",
     "text": [
      "Dear Saad, I would be honored if you could join me for dinner.\n",
      "Dear Fahad, I would be honored if you could join me for dinner.\n",
      "Dear Abdullah, I would be honored if you could join me for dinner.\n",
      "Unfortunately, Fahad can't make it to dinner.\n",
      "Dear Saad, I would be honored if you could join me for dinner.\n",
      "Dear Ali, I would be honored if you could join me for dinner.\n",
      "Dear Abdullah, I would be honored if you could join me for dinner.\n"
     ]
    }
   ],
   "source": [
    "for i in range(0,len(names)):\n",
    "    print(f\"Dear {names[i]}, I would be honored if you could join me for dinner.\")\n",
    "print(f\"Unfortunately, {names[1]} can't make it to dinner.\")\n",
    "names[1]=\"Ali\"\n",
    "for i in range(0,len(names)):\n",
    "    print(f\"Dear {names[i]}, I would be honored if you could join me for dinner.\")"
   ]
  },
  {
   "cell_type": "code",
   "execution_count": 52,
   "metadata": {},
   "outputs": [
    {
     "name": "stdout",
     "output_type": "stream",
     "text": [
      "['Hamza', 'Saad', 'Zeeshan', 'Fahad', 'Abdullah', 'Talal']\n",
      "Dear Hamza, I would be honored if you could join me for dinner.\n",
      "Dear Saad, I would be honored if you could join me for dinner.\n",
      "Dear Zeeshan, I would be honored if you could join me for dinner.\n",
      "Dear Fahad, I would be honored if you could join me for dinner.\n",
      "Dear Abdullah, I would be honored if you could join me for dinner.\n",
      "Dear Talal, I would be honored if you could join me for dinner.\n"
     ]
    }
   ],
   "source": [
    "invitation_names = [\"Saad\",\"Fahad\",\"Abdullah\"]\n",
    "invitation_names.insert(0,\"Hamza\")\n",
    "invitation_names.insert(2,\"Zeeshan\")\n",
    "invitation_names.append(\"Talal\")\n",
    "print(invitation_names)\n",
    "for i in range(0,len(invitation_names)):\n",
    "    print(f\"Dear {invitation_names[i]}, I would be honored if you could join me for dinner.\")\n",
    "\n"
   ]
  },
  {
   "cell_type": "code",
   "execution_count": 53,
   "metadata": {},
   "outputs": [
    {
     "name": "stdout",
     "output_type": "stream",
     "text": [
      "Invitation:['Hamza', 'Saad']\n",
      "Remove names :['Talal', 'Abdullah', 'Fahad', 'Zeeshan']\n",
      "Sorry Talal, you can’t invite them to dinner.\n",
      "Sorry Abdullah, you can’t invite them to dinner.\n",
      "Sorry Fahad, you can’t invite them to dinner.\n",
      "Sorry Zeeshan, you can’t invite them to dinner.\n",
      "Invitation:[]\n"
     ]
    }
   ],
   "source": [
    "cancel_names= []\n",
    "cancel_names.append(invitation_names.pop())\n",
    "cancel_names.append(invitation_names.pop())\n",
    "cancel_names.append(invitation_names.pop())\n",
    "cancel_names.append(invitation_names.pop())\n",
    "\n",
    "print(f\"Invitation:{invitation_names}\")\n",
    "print(f\"Remove names :{cancel_names}\")\n",
    "\n",
    "for i in range(0,len(cancel_names)):\n",
    "    print(f\"Sorry {cancel_names[i]}, you can’t invite them to dinner.\")\n",
    "del invitation_names[:]\n",
    "print(f\"Invitation:{invitation_names}\")\n"
   ]
  },
  {
   "cell_type": "code",
   "execution_count": 63,
   "metadata": {},
   "outputs": [
    {
     "name": "stdout",
     "output_type": "stream",
     "text": [
      "['Barcelona', 'Paris', 'New York', 'London', 'Turkey']\n",
      "['Barcelona', 'London', 'New York', 'Paris', 'Turkey']\n",
      "['Barcelona', 'Paris', 'New York', 'London', 'Turkey']\n",
      "['Turkey', 'London', 'New York', 'Paris', 'Barcelona']\n"
     ]
    }
   ],
   "source": [
    "location = [\"Barcelona\",\"Paris\",\"New York\",\"London\",\"Turkey\"]\n",
    "print(location)\n",
    "print(sorted(location))\n",
    "print(location)\n",
    "location.reverse()\n",
    "print(location)"
   ]
  },
  {
   "cell_type": "code",
   "execution_count": 64,
   "metadata": {},
   "outputs": [
    {
     "name": "stdout",
     "output_type": "stream",
     "text": [
      "['Barcelona', 'Paris', 'New York', 'London', 'Turkey']\n",
      "['Barcelona', 'London', 'New York', 'Paris', 'Turkey']\n",
      "['Barcelona', 'London', 'New York', 'Paris', 'Turkey']\n"
     ]
    }
   ],
   "source": [
    "location1 = [\"Barcelona\",\"Paris\",\"New York\",\"London\",\"Turkey\"]\n",
    "print(location1)\n",
    "location1.sort()\n",
    "print(location1)\n",
    "location.reverse()\n",
    "print(location1)"
   ]
  },
  {
   "cell_type": "code",
   "execution_count": 65,
   "metadata": {},
   "outputs": [
    {
     "name": "stdout",
     "output_type": "stream",
     "text": [
      "['Paris', 'New York', 'Tokyo', 'London', 'Sydney']\n",
      "After append: ['Paris', 'New York', 'Tokyo', 'London', 'Sydney', 'Berlin']\n",
      "After extend: ['Paris', 'New York', 'Tokyo', 'London', 'Sydney', 'Berlin', 'Madrid', 'Rome']\n",
      "After insert: ['Paris', 'New York', 'Dubai', 'Tokyo', 'London', 'Sydney', 'Berlin', 'Madrid', 'Rome']\n",
      "After remove: ['Paris', 'New York', 'Dubai', 'Tokyo', 'Sydney', 'Berlin', 'Madrid', 'Rome']\n",
      "Removed city using pop(): Rome\n",
      "After pop: ['Paris', 'New York', 'Dubai', 'Tokyo', 'Sydney', 'Berlin', 'Madrid']\n",
      "After clear: []\n",
      "Index of Tokyo: 2\n",
      "Count of Paris: 1\n",
      "After sort: ['London', 'New York', 'Paris', 'Sydney', 'Tokyo']\n",
      "After reverse: ['Tokyo', 'Sydney', 'Paris', 'New York', 'London']\n",
      "Copy of cities list: ['Tokyo', 'Sydney', 'Paris', 'New York', 'London']\n"
     ]
    }
   ],
   "source": [
    "cities = [\"Paris\", \"New York\", \"Tokyo\", \"London\", \"Sydney\"]\n",
    "print(cities)\n",
    "# Use append() to add a new city\n",
    "cities.append(\"Berlin\")\n",
    "print(\"After append:\", cities)\n",
    "# Use extend() to add multiple cities\n",
    "cities.extend([\"Madrid\", \"Rome\"])\n",
    "print(\"After extend:\", cities)\n",
    "# Use insert() to add a city at a specific position\n",
    "cities.insert(2, \"Dubai\")\n",
    "print(\"After insert:\", cities)\n",
    "# Use remove() to remove a specific city\n",
    "cities.remove(\"London\")\n",
    "print(\"After remove:\", cities)\n",
    "# Use pop() to remove and return the last city\n",
    "last_city = cities.pop()\n",
    "print(\"Removed city using pop():\", last_city)\n",
    "print(\"After pop:\", cities)\n",
    "# Use clear() to remove all cities\n",
    "cities.clear()\n",
    "print(\"After clear:\", cities)\n",
    "# Recreate the list for further methods\n",
    "cities = [\"Paris\", \"New York\", \"Tokyo\", \"London\", \"Sydney\"]\n",
    "# Use index() to find the position of a city\n",
    "position = cities.index(\"Tokyo\")\n",
    "print(\"Index of Tokyo:\", position)\n",
    "# Use count() to count the occurrences of a city\n",
    "city_count = cities.count(\"Paris\")\n",
    "print(\"Count of Paris:\", city_count)\n",
    "# Use sort() to sort the cities alphabetically\n",
    "cities.sort()\n",
    "print(\"After sort:\", cities)\n",
    "# Use reverse() to reverse the order of the cities\n",
    "cities.reverse()\n",
    "print(\"After reverse:\", cities)\n",
    "# Use copy() to create a shallow copy of the list\n",
    "cities_copy = cities.copy()\n",
    "print(\"Copy of cities list:\", cities_copy)\n"
   ]
  },
  {
   "cell_type": "code",
   "execution_count": 66,
   "metadata": {},
   "outputs": [
    {
     "ename": "IndexError",
     "evalue": "list index out of range",
     "output_type": "error",
     "traceback": [
      "\u001b[1;31m---------------------------------------------------------------------------\u001b[0m",
      "\u001b[1;31mIndexError\u001b[0m                                Traceback (most recent call last)",
      "Cell \u001b[1;32mIn[66], line 3\u001b[0m\n\u001b[0;32m      1\u001b[0m \u001b[38;5;66;03m#Intentional Error\u001b[39;00m\n\u001b[0;32m      2\u001b[0m cities \u001b[38;5;241m=\u001b[39m [\u001b[38;5;124m\"\u001b[39m\u001b[38;5;124mParis\u001b[39m\u001b[38;5;124m\"\u001b[39m, \u001b[38;5;124m\"\u001b[39m\u001b[38;5;124mNew York\u001b[39m\u001b[38;5;124m\"\u001b[39m, \u001b[38;5;124m\"\u001b[39m\u001b[38;5;124mTokyo\u001b[39m\u001b[38;5;124m\"\u001b[39m, \u001b[38;5;124m\"\u001b[39m\u001b[38;5;124mLondon\u001b[39m\u001b[38;5;124m\"\u001b[39m, \u001b[38;5;124m\"\u001b[39m\u001b[38;5;124mSydney\u001b[39m\u001b[38;5;124m\"\u001b[39m]\n\u001b[1;32m----> 3\u001b[0m \u001b[38;5;28mprint\u001b[39m(\u001b[43mcities\u001b[49m\u001b[43m[\u001b[49m\u001b[38;5;241;43m5\u001b[39;49m\u001b[43m]\u001b[49m)\n",
      "\u001b[1;31mIndexError\u001b[0m: list index out of range"
     ]
    }
   ],
   "source": [
    "#Intentional Error\n",
    "cities = [\"Paris\", \"New York\", \"Tokyo\", \"London\", \"Sydney\"]\n",
    "print(cities[5])\n"
   ]
  }
 ],
 "metadata": {
  "kernelspec": {
   "display_name": "Python 3",
   "language": "python",
   "name": "python3"
  },
  "language_info": {
   "codemirror_mode": {
    "name": "ipython",
    "version": 3
   },
   "file_extension": ".py",
   "mimetype": "text/x-python",
   "name": "python",
   "nbconvert_exporter": "python",
   "pygments_lexer": "ipython3",
   "version": "3.12.5"
  }
 },
 "nbformat": 4,
 "nbformat_minor": 2
}
