{
  "nbformat": 4,
  "nbformat_minor": 0,
  "metadata": {
    "colab": {
      "provenance": []
    },
    "kernelspec": {
      "name": "python3",
      "display_name": "Python 3"
    },
    "language_info": {
      "name": "python"
    }
  },
  "cells": [
    {
      "cell_type": "markdown",
      "source": [
        "## Addition Function"
      ],
      "metadata": {
        "id": "HqD401L7SCqW"
      }
    },
    {
      "cell_type": "code",
      "execution_count": null,
      "metadata": {
        "id": "8e6x91AqOtvO"
      },
      "outputs": [],
      "source": [
        "def addition(a,b : float) -> float:\n",
        "  return float(a)+float(b)"
      ]
    },
    {
      "cell_type": "markdown",
      "source": [
        "## Subtraction Function"
      ],
      "metadata": {
        "id": "2krRRDDUSN6A"
      }
    },
    {
      "cell_type": "code",
      "source": [
        "def subtraction(a,b : float) -> float:\n",
        "  return float(a)-float(b)"
      ],
      "metadata": {
        "id": "Tp3rjFQTPIlB"
      },
      "execution_count": null,
      "outputs": []
    },
    {
      "cell_type": "markdown",
      "source": [
        "## Multiplication Function"
      ],
      "metadata": {
        "id": "AsO3n2NpSX8x"
      }
    },
    {
      "cell_type": "code",
      "source": [
        "def multiplication(a,b : float) -> int:\n",
        "  return float(a)*float(b)"
      ],
      "metadata": {
        "id": "7E8CaXOwPTlX"
      },
      "execution_count": null,
      "outputs": []
    },
    {
      "cell_type": "markdown",
      "source": [
        "## Division Function"
      ],
      "metadata": {
        "id": "uFY2qLu7SbNl"
      }
    },
    {
      "cell_type": "code",
      "source": [
        "def division(a,b : float) -> float:\n",
        "  return float(a)/float(b)"
      ],
      "metadata": {
        "id": "Q3gJ78PWPah7"
      },
      "execution_count": null,
      "outputs": []
    },
    {
      "cell_type": "markdown",
      "source": [
        "## Main Code"
      ],
      "metadata": {
        "id": "tHVkimLxSeAU"
      }
    },
    {
      "cell_type": "code",
      "source": [
        "a = float(input(\"Enter First Number: \"))\n",
        "b = float(input(\"Enter Second Number: \"))\n",
        "result : float = 0\n",
        "\n",
        "operation : int = input(\"Enter operation (+, -, *, /): \")\n",
        "\n",
        "if operation == \"+\" :\n",
        "    result=addition(a,b)\n",
        "    print(f\"Sum of {a} and {b} is {result}\")\n",
        "elif operation == \"-\"  :\n",
        "    result=subtraction(a,b)\n",
        "    print(f\"difference of {a} and {b} is {result}\")\n",
        "elif operation == \"*\"  :\n",
        "    result=multiplication(a,b)\n",
        "    print(f\"Product of {a} and {b} is {result}\")\n",
        "elif operation == \"/\"  :\n",
        "    result=division(a,b)\n",
        "    print(f\"Division of {a} by {b} is {result}\")\n",
        "else :\n",
        "    print(\"error\")"
      ],
      "metadata": {
        "colab": {
          "base_uri": "https://localhost:8080/"
        },
        "id": "F3u1VMnjP6wc",
        "outputId": "71f7061e-3369-45f4-a738-f9b47807e342"
      },
      "execution_count": null,
      "outputs": [
        {
          "output_type": "stream",
          "name": "stdout",
          "text": [
            "Enter First Number: 9\n",
            "Enter Second Number: 2\n",
            "Enter operation (+, -, *, /): /\n",
            "Division of 9.0 by 2.0 is 4.5\n"
          ]
        }
      ]
    }
  ]
}